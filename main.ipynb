{
 "cells": [
  {
   "cell_type": "code",
   "execution_count": 2,
   "metadata": {},
   "outputs": [],
   "source": [
    "import json\n",
    "from transformers import AdamW, get_linear_schedule_with_warmup\n",
    "import warnings\n",
    "warnings.filterwarnings(\"ignore\")\n",
    "\n",
    "from model import *\n",
    "from dataloader import *\n",
    "from train import *\n",
    "from modelling import *"
   ]
  },
  {
   "cell_type": "code",
   "execution_count": 3,
   "metadata": {},
   "outputs": [
    {
     "name": "stdout",
     "output_type": "stream",
     "text": [
      "cpu\n"
     ]
    }
   ],
   "source": [
    "#Check GPU\n",
    "#device = torch.device(\"cuda\" if torch.cuda.is_available() else \"cpu\")\n",
    "device = \"cpu\"\n",
    "n_gpu = torch.cuda.device_count()\n",
    "print(device)\n",
    "\n",
    "MAX_LEN = 256\n",
    "BS = 32\n",
    "DROPOUT_OUT = 0.3\n",
    "tag_values = ['PAD', 'ADDRESS','SKILL','EMAIL','PERSON','PHONENUMBER','MISCELLANEOUS','QUANTITY','PERSONTYPE',\n",
    "              'ORGANIZATION','PRODUCT','IP','LOCATION','O','DATETIME','EVENT', 'URL']\n",
    "num_labels = len(tag_values)\n",
    "\n",
    "\n",
    "linear_dropout = 0.3\n",
    "bert_att_dropout = 0.15\n",
    "bert_hidd_dropout = 0.2\n",
    "\n",
    "bert_lr = 1e-5\n",
    "bert_weight_decay = 1e-5\n",
    "softmax_lr = 5e-4\n",
    "softmax_weight_decay = 1e-3"
   ]
  },
  {
   "cell_type": "code",
   "execution_count": 4,
   "metadata": {},
   "outputs": [],
   "source": [
    "dir_train = 'dataset/train_update_10t01.pkl'\n",
    "dir_dev = 'dataset/dev_update_10t01.pkl'\n",
    "dir_test = 'dataset/test_update_10t01.pkl'\n",
    "dir_demo = 'dataset/demo.pkl'\n",
    "\n",
    "with open('path.json', 'r', encoding= 'utf-8') as f:\n",
    "        dict_path = json.load(f)"
   ]
  },
  {
   "cell_type": "code",
   "execution_count": 5,
   "metadata": {},
   "outputs": [
    {
     "name": "stderr",
     "output_type": "stream",
     "text": [
      "Some weights of XLMRobertaModel were not initialized from the model checkpoint at pretrain/xlmr_Model and are newly initialized: ['pooler.dense.bias', 'pooler.dense.weight']\n",
      "You should probably TRAIN this model on a down-stream task to be able to use it for predictions and inference.\n"
     ]
    }
   ],
   "source": [
    "ner = NER(dict_path = dict_path, tag_values=tag_values, dropout = DROPOUT_OUT, max_len = MAX_LEN, device = device)"
   ]
  },
  {
   "cell_type": "code",
   "execution_count": 6,
   "metadata": {},
   "outputs": [],
   "source": [
    "#TRAIN = BertDataLoader(dir_train, ner.tokenizer, tag_values, maxlen = MAX_LEN, batch_size=BS,  device=device, is_train = False)\n",
    "DEV = BertDataLoader(dir_dev, ner.tokenizer, tag_values=tag_values, max_len=MAX_LEN, batch_size=BS, device=device, is_train = False)\n",
    "#TEST = BertDataLoader(dir_test, ner.tokenizer, tag_values, maxlen = MAX_LEN, batch_size=BS,  device=device, is_train = False)\n",
    "DEMO = BertDataLoader(dir_demo, ner.tokenizer, tag_values=tag_values, max_len=MAX_LEN, batch_size=BS, device=device, is_train = False)"
   ]
  },
  {
   "cell_type": "code",
   "execution_count": 7,
   "metadata": {},
   "outputs": [],
   "source": [
    "#train_loader, train_labels = TRAIN.create_dataloader()\n",
    "dev_loader, dev_labels = DEV.create_dataloader()\n",
    "#test_loader, test_labels = TEST.create_dataloader()\n",
    "demo_loader, demo_labels = DEMO.create_dataloader()"
   ]
  },
  {
   "cell_type": "code",
   "execution_count": 8,
   "metadata": {},
   "outputs": [],
   "source": [
    "cnt = -1\n",
    "num_layer = 197\n",
    "FINETUNING = True\n",
    "if FINETUNING:\n",
    "    param_optimizer1 = list(ner.model.named_parameters())[:num_layer]\n",
    "    param_optimizer2 = list(ner.model.named_parameters())[num_layer:]\n",
    "    no_decay = ['bias', 'LayerNorm.weight'] #['bias', 'gamma', 'beta']\n",
    "    optimizer_grouped_parameters = [\n",
    "        {'params': [p for n, p in param_optimizer1 if not any(nd in n for nd in no_decay)],\n",
    "         'weight_decay_rate': bert_weight_decay},\n",
    "        {'params': [p for n, p in param_optimizer1 if any(nd in n for nd in no_decay)],\n",
    "         'weight_decay_rate': 0.0},\n",
    "        \n",
    "        {'params': [p for n, p in param_optimizer2 if not any(nd in n for nd in no_decay)],\n",
    "         'weight_decay_rate': softmax_weight_decay,\n",
    "         'lr': softmax_lr},\n",
    "        {'params': [p for n, p in param_optimizer2 if any(nd in n for nd in no_decay)],\n",
    "         'weight_decay_rate': 0.0,\n",
    "         'lr':softmax_lr},\n",
    "    ]\n",
    "optimizer = AdamW(\n",
    "    optimizer_grouped_parameters,\n",
    "    lr=bert_lr)"
   ]
  },
  {
   "cell_type": "code",
   "execution_count": null,
   "metadata": {},
   "outputs": [],
   "source": [
    "#PATH = 'weight/xlmr_span2_pool_nocat.pt'\n",
    "PATH = 'weight/weight.pt'\n",
    "epochs = 2\n",
    "patience = 10\n",
    "max_grad_norm = 1.0\n",
    "total_steps = len(demo_loader) * epochs\n",
    "scheduler = get_linear_schedule_with_warmup(optimizer,num_warmup_steps=int(total_steps/10), num_training_steps=total_steps)\n",
    "model, history = train_model(model=ner.model, train_loader=demo_loader, dev_loader=demo_loader, \n",
    "                            scheduler=scheduler, optimizer=optimizer, tokenizer=ner.tokenizer, \n",
    "                            tag_values=tag_values, device=device,epochs=epochs, patience=patience, \n",
    "                            max_grad_norm=max_grad_norm, PATH=PATH, strict=0)"
   ]
  },
  {
   "cell_type": "code",
   "execution_count": 9,
   "metadata": {},
   "outputs": [],
   "source": [
    "ner.model = load_model(ner.model, 'weight/xlmr_span2_pool_nocat.pt', device)"
   ]
  },
  {
   "cell_type": "code",
   "execution_count": 11,
   "metadata": {},
   "outputs": [
    {
     "ename": "IndexError",
     "evalue": "list index out of range",
     "output_type": "error",
     "traceback": [
      "\u001b[1;31m---------------------------------------------------------------------------\u001b[0m",
      "\u001b[1;31mIndexError\u001b[0m                                Traceback (most recent call last)",
      "\u001b[1;32m~\\AppData\\Local\\Temp/ipykernel_16032/2002693949.py\u001b[0m in \u001b[0;36m<module>\u001b[1;34m\u001b[0m\n\u001b[0;32m      1\u001b[0m \u001b[0msentence\u001b[0m \u001b[1;33m=\u001b[0m \u001b[1;34m\"Tôi là sinh viên Tân.\"\u001b[0m\u001b[1;33m\u001b[0m\u001b[1;33m\u001b[0m\u001b[0m\n\u001b[1;32m----> 2\u001b[1;33m \u001b[0mresult\u001b[0m \u001b[1;33m=\u001b[0m \u001b[0mner\u001b[0m\u001b[1;33m.\u001b[0m\u001b[0mpredict\u001b[0m\u001b[1;33m(\u001b[0m\u001b[0msentence\u001b[0m\u001b[1;33m)\u001b[0m\u001b[1;33m\u001b[0m\u001b[1;33m\u001b[0m\u001b[0m\n\u001b[0m\u001b[0;32m      3\u001b[0m \u001b[0mutils\u001b[0m\u001b[1;33m.\u001b[0m\u001b[0mvisualize_spacy\u001b[0m\u001b[1;33m(\u001b[0m\u001b[0mresult\u001b[0m\u001b[1;33m)\u001b[0m\u001b[1;33m\u001b[0m\u001b[1;33m\u001b[0m\u001b[0m\n",
      "\u001b[1;32md:\\FSOFT_QAI\\Mock project\\NER_FINAL\\modelling.py\u001b[0m in \u001b[0;36mpredict\u001b[1;34m(self, texts)\u001b[0m\n\u001b[0;32m     54\u001b[0m             \u001b[0msm\u001b[0m \u001b[1;33m=\u001b[0m \u001b[1;33m[\u001b[0m\u001b[1;33m(\u001b[0m\u001b[0mutils\u001b[0m\u001b[1;33m.\u001b[0m\u001b[0msoftmax\u001b[0m\u001b[1;33m(\u001b[0m\u001b[0mlogits\u001b[0m\u001b[1;33m[\u001b[0m\u001b[1;36m0\u001b[0m\u001b[1;33m,\u001b[0m\u001b[0mi\u001b[0m\u001b[1;33m]\u001b[0m\u001b[1;33m)\u001b[0m\u001b[1;33m)\u001b[0m \u001b[1;32mfor\u001b[0m \u001b[0mi\u001b[0m \u001b[1;32min\u001b[0m \u001b[0mrange\u001b[0m\u001b[1;33m(\u001b[0m\u001b[0mlen_subword\u001b[0m\u001b[1;33m)\u001b[0m\u001b[1;33m]\u001b[0m\u001b[1;33m\u001b[0m\u001b[1;33m\u001b[0m\u001b[0m\n\u001b[0;32m     55\u001b[0m \u001b[1;33m\u001b[0m\u001b[0m\n\u001b[1;32m---> 56\u001b[1;33m             \u001b[0mtags_predict\u001b[0m \u001b[1;33m=\u001b[0m \u001b[1;33m[\u001b[0m\u001b[0mself\u001b[0m\u001b[1;33m.\u001b[0m\u001b[0mtag_values\u001b[0m\u001b[1;33m[\u001b[0m\u001b[0mi\u001b[0m\u001b[1;33m]\u001b[0m  \u001b[1;32mfor\u001b[0m \u001b[0mi\u001b[0m \u001b[1;32min\u001b[0m  \u001b[0mpredict\u001b[0m\u001b[1;33m]\u001b[0m\u001b[1;33m\u001b[0m\u001b[1;33m\u001b[0m\u001b[0m\n\u001b[0m\u001b[0;32m     57\u001b[0m             \u001b[0mtests\u001b[0m\u001b[1;33m,\u001b[0m \u001b[0mtags\u001b[0m\u001b[1;33m,\u001b[0m \u001b[0mprobs\u001b[0m \u001b[1;33m=\u001b[0m \u001b[0mutils\u001b[0m\u001b[1;33m.\u001b[0m\u001b[0mmerge_subtags_4column\u001b[0m\u001b[1;33m(\u001b[0m\u001b[0msub\u001b[0m\u001b[1;33m,\u001b[0m \u001b[0mtags_predict\u001b[0m\u001b[1;33m,\u001b[0m \u001b[0msm\u001b[0m\u001b[1;33m)\u001b[0m\u001b[1;33m\u001b[0m\u001b[1;33m\u001b[0m\u001b[0m\n\u001b[0;32m     58\u001b[0m             \u001b[0mwords_out\u001b[0m \u001b[1;33m+=\u001b[0m \u001b[0mtests\u001b[0m\u001b[1;33m[\u001b[0m\u001b[1;36m1\u001b[0m\u001b[1;33m:\u001b[0m\u001b[1;33m-\u001b[0m\u001b[1;36m1\u001b[0m\u001b[1;33m]\u001b[0m\u001b[1;33m\u001b[0m\u001b[1;33m\u001b[0m\u001b[0m\n",
      "\u001b[1;32md:\\FSOFT_QAI\\Mock project\\NER_FINAL\\modelling.py\u001b[0m in \u001b[0;36m<listcomp>\u001b[1;34m(.0)\u001b[0m\n\u001b[0;32m     54\u001b[0m             \u001b[0msm\u001b[0m \u001b[1;33m=\u001b[0m \u001b[1;33m[\u001b[0m\u001b[1;33m(\u001b[0m\u001b[0mutils\u001b[0m\u001b[1;33m.\u001b[0m\u001b[0msoftmax\u001b[0m\u001b[1;33m(\u001b[0m\u001b[0mlogits\u001b[0m\u001b[1;33m[\u001b[0m\u001b[1;36m0\u001b[0m\u001b[1;33m,\u001b[0m\u001b[0mi\u001b[0m\u001b[1;33m]\u001b[0m\u001b[1;33m)\u001b[0m\u001b[1;33m)\u001b[0m \u001b[1;32mfor\u001b[0m \u001b[0mi\u001b[0m \u001b[1;32min\u001b[0m \u001b[0mrange\u001b[0m\u001b[1;33m(\u001b[0m\u001b[0mlen_subword\u001b[0m\u001b[1;33m)\u001b[0m\u001b[1;33m]\u001b[0m\u001b[1;33m\u001b[0m\u001b[1;33m\u001b[0m\u001b[0m\n\u001b[0;32m     55\u001b[0m \u001b[1;33m\u001b[0m\u001b[0m\n\u001b[1;32m---> 56\u001b[1;33m             \u001b[0mtags_predict\u001b[0m \u001b[1;33m=\u001b[0m \u001b[1;33m[\u001b[0m\u001b[0mself\u001b[0m\u001b[1;33m.\u001b[0m\u001b[0mtag_values\u001b[0m\u001b[1;33m[\u001b[0m\u001b[0mi\u001b[0m\u001b[1;33m]\u001b[0m  \u001b[1;32mfor\u001b[0m \u001b[0mi\u001b[0m \u001b[1;32min\u001b[0m  \u001b[0mpredict\u001b[0m\u001b[1;33m]\u001b[0m\u001b[1;33m\u001b[0m\u001b[1;33m\u001b[0m\u001b[0m\n\u001b[0m\u001b[0;32m     57\u001b[0m             \u001b[0mtests\u001b[0m\u001b[1;33m,\u001b[0m \u001b[0mtags\u001b[0m\u001b[1;33m,\u001b[0m \u001b[0mprobs\u001b[0m \u001b[1;33m=\u001b[0m \u001b[0mutils\u001b[0m\u001b[1;33m.\u001b[0m\u001b[0mmerge_subtags_4column\u001b[0m\u001b[1;33m(\u001b[0m\u001b[0msub\u001b[0m\u001b[1;33m,\u001b[0m \u001b[0mtags_predict\u001b[0m\u001b[1;33m,\u001b[0m \u001b[0msm\u001b[0m\u001b[1;33m)\u001b[0m\u001b[1;33m\u001b[0m\u001b[1;33m\u001b[0m\u001b[0m\n\u001b[0;32m     58\u001b[0m             \u001b[0mwords_out\u001b[0m \u001b[1;33m+=\u001b[0m \u001b[0mtests\u001b[0m\u001b[1;33m[\u001b[0m\u001b[1;36m1\u001b[0m\u001b[1;33m:\u001b[0m\u001b[1;33m-\u001b[0m\u001b[1;36m1\u001b[0m\u001b[1;33m]\u001b[0m\u001b[1;33m\u001b[0m\u001b[1;33m\u001b[0m\u001b[0m\n",
      "\u001b[1;31mIndexError\u001b[0m: list index out of range"
     ]
    }
   ],
   "source": [
    "sentence = \"Tôi là sinh viên Tân.\"\n",
    "result = ner.predict(sentence)\n",
    "utils.visualize_spacy(result)"
   ]
  },
  {
   "cell_type": "code",
   "execution_count": 3,
   "metadata": {},
   "outputs": [],
   "source": [
    "import matplotlib.pyplot as plt\n",
    "import numpy as np"
   ]
  },
  {
   "cell_type": "code",
   "execution_count": 25,
   "metadata": {},
   "outputs": [],
   "source": [
    "tag_values = ['PER', 'LOC', 'ORG', 'EVENT', 'PERTYPE', 'PRO', 'SKILL',\n",
    "'ADD', 'PHONE', 'EMAIL', 'URL', 'IP', 'DATETIME', 'QUAN', 'MISC']\n",
    "train_ori = np.array([7896, 9579, 6671, 1275, 2633, 2020, 35, 54, 144, 40, 165, 58, 3807, 6981, 465])\n",
    "dev_ori = np.array([1500, 1790, 1190, 116, 327, 299, 0, 2, 8, 0, 14, 0, 537, 1120, 83])\n",
    "test_ori = np.array([3517, 1829, 2391, 160, 1318, 1263, 0, 2, 3, 1, 33, 0, 1677, 2570, 89])\n",
    " \n",
    "train_new = np.array([9094, 10576, 8642, 1858, 3955, 3032, 119, 385, 190, 49, 203, 60, 5246, 10442, 1002])\n",
    "dev_new = np.array([1943, 1302, 1598, 211, 695, 635, 43, 29, 9, 7, 17, 10, 1007, 1904, 159])\n",
    "test_new = np.array([3248, 2397, 2696, 367, 1063, 1180, 51, 40, 24, 13, 43, 23, 1854, 3307, 310])\n"
   ]
  },
  {
   "cell_type": "code",
   "execution_count": 67,
   "metadata": {},
   "outputs": [
    {
     "name": "stdout",
     "output_type": "stream",
     "text": [
      "[12913 13198 10252  1551  4278  3582    35    58   155    41   212    58\n",
      "  6021 10671   637]\n",
      "[14285 14275 12936  2436  5713  4847   213   454   223    69   263    93\n",
      "  8107 15653  1471]\n",
      "[1372 1077 2684  885 1435 1265  178  396   68   28   51   35 2086 4982\n",
      "  834]\n",
      "[0.11 0.08 0.26 0.57 0.34 0.35 5.09 6.83 0.44 0.68 0.24 0.6  0.35 0.47\n",
      " 1.31]\n",
      "[1. 1. 1. 1. 1. 1. 1. 1. 1. 1. 1. 1. 1. 1. 1.]\n"
     ]
    }
   ],
   "source": [
    "aa = np.sum([train_ori, dev_ori, test_ori], axis=0)\n",
    "bb = np.sum([train_new, dev_new, test_new], axis=0)\n",
    "cc = bb - aa\n",
    "dd = np.round(cc / aa, 2)\n",
    "ee = np.round(aa / aa, 2)\n",
    "print(aa)\n",
    "print(bb)\n",
    "print(cc)\n",
    "print(dd)\n",
    "print(ee)"
   ]
  },
  {
   "cell_type": "code",
   "execution_count": 57,
   "metadata": {},
   "outputs": [
    {
     "data": {
      "image/png": "[encoded data removed]",
      "text/plain": [
       "<Figure size 432x288 with 1 Axes>"
      ]
     },
     "metadata": {},
     "output_type": "display_data"
    },
    {
     "data": {
      "image/png": "[encoded data removed]",
      "text/plain": [
       "<Figure size 1152x576 with 1 Axes>"
      ]
     },
     "metadata": {
      "needs_background": "light"
     },
     "output_type": "display_data"
    }
   ],
   "source": [
    "import numpy as np\n",
    "import matplotlib.pyplot as plt\n",
    "\n",
    "A = aa\n",
    "B = cc\n",
    "\n",
    "fig = plt.figure(facecolor=\"white\")\n",
    "ax = fig.add_subplot(1, 1, 1)\n",
    "bar_width = 0.5\n",
    "bar_l = np.arange(1, 17)\n",
    "tick_pos = [i + (bar_width / 2) for i in bar_l]\n",
    "\n",
    "# ax1 = ax.bar(bar_l, A, width=bar_width, label=\"A\", color=\"green\")\n",
    "# ax2 = ax.bar(bar_l, B, bottom=A, width=bar_width, label=\"B\", color=\"blue\")\n",
    "plt.figure(figsize=(16,8))\n",
    "ax1 = plt.bar(tag_values, aa, align='center', color='green')\n",
    "ax2 = plt.bar(tag_values, cc, align='center', bottom=aa, color='blue')\n",
    "\n",
    "for r1, r2 in zip(ax1, ax2):\n",
    "    h1 = r1.get_height()\n",
    "    h2 = r2.get_height()\n",
    "    plt.text(r1.get_x() + r1.get_width() / 2., h1 / 2., \"%d\" % h1, ha=\"center\", va=\"bottom\", color=\"black\", fontsize=8, fontweight=\"bold\")\n",
    "    plt.text(r2.get_x() + r2.get_width() / 2., h1 + h2 / 2., \"%d\" % h2, ha=\"center\", va=\"bottom\", color=\"black\", fontsize=8, fontweight=\"bold\")\n",
    "\n",
    "plt.show()"
   ]
  },
  {
   "cell_type": "code",
   "execution_count": 74,
   "metadata": {},
   "outputs": [],
   "source": []
  },
  {
   "cell_type": "code",
   "execution_count": 95,
   "metadata": {},
   "outputs": [
    {
     "data": {
      "image/png": "[encoded data removed]",
      "text/plain": [
       "<Figure size 1152x576 with 1 Axes>"
      ]
     },
     "metadata": {
      "needs_background": "light"
     },
     "output_type": "display_data"
    }
   ],
   "source": [
    "# function to add value labels\n",
    "def addlabels(x,y):\n",
    "    for i in range(len(x)):\n",
    "        plt.text(i, y[i], y[i], ha ='center', va='top')\n",
    "plt.figure(figsize=(16,8))\n",
    "ax1 = plt.bar(tag_values, ee, align='center', color='green')\n",
    "#addlabels(tag_values, dd)\n",
    "ax2 = plt.bar(tag_values, dd, align='center', bottom=ee, color='orange')\n",
    "\n",
    "#plt.bar_label(ax2.containers[0])\n",
    "# function to add value labels\n",
    "# function to add value labels\n",
    "for r1, r2 in zip(ax1, ax2):\n",
    "    h1 = r1.get_height()\n",
    "    h2 = r2.get_height()\n",
    "    #plt.text(r1.get_x() + r1.get_width() / 2., h1 / 2., \"%a\" % h1, ha=\"center\", va=\"bottom\", color=\"black\", fontsize=8, fontweight=\"bold\")\n",
    "    plt.text(r2.get_x() + r2.get_width() / 2., h1 + h2 / 2., np.round(h2, 2), ha=\"center\", va=\"bottom\", color=\"black\", fontsize=8, fontweight=\"bold\")\n",
    "\n",
    "plt.show()"
   ]
  },
  {
   "cell_type": "code",
   "execution_count": null,
   "metadata": {},
   "outputs": [],
   "source": []
  }
 ],
 "metadata": {
  "interpreter": {
   "hash": "560a0688592f1e135833133de6adb42b9cb9012b086646fa70cf9c4127a0b6d2"
  },
  "kernelspec": {
   "display_name": "Python 3.8.0 64-bit ('NER': conda)",
   "language": "python",
   "name": "python3"
  },
  "language_info": {
   "codemirror_mode": {
    "name": "ipython",
    "version": 3
   },
   "file_extension": ".py",
   "mimetype": "text/x-python",
   "name": "python",
   "nbconvert_exporter": "python",
   "pygments_lexer": "ipython3",
   "version": "3.8.0"
  },
  "orig_nbformat": 4
 },
 "nbformat": 4,
 "nbformat_minor": 2
}
